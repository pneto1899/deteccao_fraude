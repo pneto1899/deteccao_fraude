{
 "cells": [
  {
   "cell_type": "markdown",
   "id": "d6c1165a",
   "metadata": {},
   "source": [
    "# Sobre a base de dados\n",
    "- Essa é uma base de dados com transações realizadas com o cartão de crédito.\n",
    "- Essa base tem como retorno transações consideradas fraudulentas ou não. Por isso, iremos desenvolver um modelo de ML para que possa detectar um transação do tipo fraudulenta\n",
    "- Base desse tipo pode ser encontrada no seguinte link:\n",
    "https://www.kaggle.com/datasets/mlg-ulb/creditcardfraud\n",
    "- Lembrando que a base utilizada **NÃO** é a do link acima"
   ]
  },
  {
   "cell_type": "markdown",
   "id": "1888444e",
   "metadata": {},
   "source": [
    "### Dicionário\n",
    "- V1 - V12 -> São as Features transformadas através do PCA (Análise de Componentes Principais)\n",
    "- target:\n",
    "        - 1 - Fraude; \n",
    "        - 0 - Não Fraude"
   ]
  },
  {
   "cell_type": "code",
   "execution_count": 1,
   "id": "a5db390f",
   "metadata": {},
   "outputs": [],
   "source": [
    "import pandas as pd\n",
    "import numpy as np\n",
    "import seaborn as sns\n",
    "import matplotlib.pyplot as plt\n",
    "import warnings\n",
    "warnings.filterwarnings('ignore')"
   ]
  },
  {
   "cell_type": "code",
   "execution_count": 2,
   "id": "0dacda22",
   "metadata": {},
   "outputs": [],
   "source": [
    "dados = pd.read_csv('classificacao_Q1.csv')"
   ]
  },
  {
   "cell_type": "code",
   "execution_count": 3,
   "id": "95ee72b1",
   "metadata": {},
   "outputs": [
    {
     "data": {
      "text/html": [
       "<div>\n",
       "<style scoped>\n",
       "    .dataframe tbody tr th:only-of-type {\n",
       "        vertical-align: middle;\n",
       "    }\n",
       "\n",
       "    .dataframe tbody tr th {\n",
       "        vertical-align: top;\n",
       "    }\n",
       "\n",
       "    .dataframe thead th {\n",
       "        text-align: right;\n",
       "    }\n",
       "</style>\n",
       "<table border=\"1\" class=\"dataframe\">\n",
       "  <thead>\n",
       "    <tr style=\"text-align: right;\">\n",
       "      <th></th>\n",
       "      <th>v_1</th>\n",
       "      <th>v_2</th>\n",
       "      <th>v_3</th>\n",
       "      <th>v_4</th>\n",
       "      <th>v_5</th>\n",
       "      <th>v_6</th>\n",
       "      <th>v_7</th>\n",
       "      <th>v_8</th>\n",
       "      <th>v_9</th>\n",
       "      <th>v_10</th>\n",
       "      <th>v_11</th>\n",
       "      <th>v_12</th>\n",
       "      <th>target</th>\n",
       "    </tr>\n",
       "  </thead>\n",
       "  <tbody>\n",
       "    <tr>\n",
       "      <th>0</th>\n",
       "      <td>-1.79796</td>\n",
       "      <td>-1.75901</td>\n",
       "      <td>-2.14257</td>\n",
       "      <td>-0.01878</td>\n",
       "      <td>-0.58601</td>\n",
       "      <td>-3.08224</td>\n",
       "      <td>-1.71369</td>\n",
       "      <td>1.41805</td>\n",
       "      <td>2.29783</td>\n",
       "      <td>1.11745</td>\n",
       "      <td>-3.43483</td>\n",
       "      <td>1.94926</td>\n",
       "      <td>0</td>\n",
       "    </tr>\n",
       "    <tr>\n",
       "      <th>1</th>\n",
       "      <td>-2.78612</td>\n",
       "      <td>-1.60622</td>\n",
       "      <td>-4.05247</td>\n",
       "      <td>3.33814</td>\n",
       "      <td>1.44255</td>\n",
       "      <td>-3.95343</td>\n",
       "      <td>-3.32328</td>\n",
       "      <td>0.71019</td>\n",
       "      <td>2.31973</td>\n",
       "      <td>0.57596</td>\n",
       "      <td>-4.22278</td>\n",
       "      <td>0.51171</td>\n",
       "      <td>0</td>\n",
       "    </tr>\n",
       "    <tr>\n",
       "      <th>2</th>\n",
       "      <td>-1.31957</td>\n",
       "      <td>2.61125</td>\n",
       "      <td>-0.99663</td>\n",
       "      <td>0.34752</td>\n",
       "      <td>0.85253</td>\n",
       "      <td>4.22652</td>\n",
       "      <td>0.84765</td>\n",
       "      <td>0.88530</td>\n",
       "      <td>-1.01460</td>\n",
       "      <td>1.03488</td>\n",
       "      <td>-0.84593</td>\n",
       "      <td>2.64307</td>\n",
       "      <td>1</td>\n",
       "    </tr>\n",
       "    <tr>\n",
       "      <th>3</th>\n",
       "      <td>-3.26219</td>\n",
       "      <td>-2.11510</td>\n",
       "      <td>0.68081</td>\n",
       "      <td>-0.49290</td>\n",
       "      <td>-2.45122</td>\n",
       "      <td>-2.37668</td>\n",
       "      <td>-0.00338</td>\n",
       "      <td>3.95559</td>\n",
       "      <td>1.42793</td>\n",
       "      <td>1.68710</td>\n",
       "      <td>-1.35533</td>\n",
       "      <td>2.82004</td>\n",
       "      <td>0</td>\n",
       "    </tr>\n",
       "    <tr>\n",
       "      <th>4</th>\n",
       "      <td>5.26181</td>\n",
       "      <td>1.85527</td>\n",
       "      <td>-2.29242</td>\n",
       "      <td>-0.86763</td>\n",
       "      <td>0.11625</td>\n",
       "      <td>-2.17675</td>\n",
       "      <td>-1.72692</td>\n",
       "      <td>-2.34726</td>\n",
       "      <td>1.98107</td>\n",
       "      <td>-4.58177</td>\n",
       "      <td>-2.26649</td>\n",
       "      <td>-3.33875</td>\n",
       "      <td>1</td>\n",
       "    </tr>\n",
       "  </tbody>\n",
       "</table>\n",
       "</div>"
      ],
      "text/plain": [
       "       v_1      v_2      v_3      v_4      v_5      v_6      v_7      v_8  \\\n",
       "0 -1.79796 -1.75901 -2.14257 -0.01878 -0.58601 -3.08224 -1.71369  1.41805   \n",
       "1 -2.78612 -1.60622 -4.05247  3.33814  1.44255 -3.95343 -3.32328  0.71019   \n",
       "2 -1.31957  2.61125 -0.99663  0.34752  0.85253  4.22652  0.84765  0.88530   \n",
       "3 -3.26219 -2.11510  0.68081 -0.49290 -2.45122 -2.37668 -0.00338  3.95559   \n",
       "4  5.26181  1.85527 -2.29242 -0.86763  0.11625 -2.17675 -1.72692 -2.34726   \n",
       "\n",
       "       v_9     v_10     v_11     v_12  target  \n",
       "0  2.29783  1.11745 -3.43483  1.94926       0  \n",
       "1  2.31973  0.57596 -4.22278  0.51171       0  \n",
       "2 -1.01460  1.03488 -0.84593  2.64307       1  \n",
       "3  1.42793  1.68710 -1.35533  2.82004       0  \n",
       "4  1.98107 -4.58177 -2.26649 -3.33875       1  "
      ]
     },
     "execution_count": 3,
     "metadata": {},
     "output_type": "execute_result"
    }
   ],
   "source": [
    "dados.head()"
   ]
  },
  {
   "cell_type": "code",
   "execution_count": 4,
   "id": "8ceb040b",
   "metadata": {},
   "outputs": [
    {
     "data": {
      "text/plain": [
       "(1800, 13)"
      ]
     },
     "execution_count": 4,
     "metadata": {},
     "output_type": "execute_result"
    }
   ],
   "source": [
    "dados.shape"
   ]
  },
  {
   "cell_type": "code",
   "execution_count": 5,
   "id": "d8ba8e9e",
   "metadata": {},
   "outputs": [
    {
     "name": "stdout",
     "output_type": "stream",
     "text": [
      "v_1       0\n",
      "v_2       0\n",
      "v_3       0\n",
      "v_4       0\n",
      "v_5       0\n",
      "v_6       0\n",
      "v_7       0\n",
      "v_8       0\n",
      "v_9       0\n",
      "v_10      0\n",
      "v_11      0\n",
      "v_12      0\n",
      "target    0\n",
      "dtype: int64\n"
     ]
    }
   ],
   "source": [
    "#dados nulos\n",
    "print(dados.isna().sum())"
   ]
  },
  {
   "cell_type": "code",
   "execution_count": 6,
   "id": "bbeb11ae",
   "metadata": {},
   "outputs": [
    {
     "name": "stdout",
     "output_type": "stream",
     "text": [
      "Número de transações: 1800\n"
     ]
    }
   ],
   "source": [
    "#Entender a feature 'target' para sabermos a quantidade de transações fraudulentas\n",
    "n_transacoes = dados.target.count()\n",
    "\n",
    "print('Número de transações: {}'.format(n_transacoes))\n",
    "\n",
    "\n"
   ]
  },
  {
   "cell_type": "code",
   "execution_count": 7,
   "id": "db0892bb",
   "metadata": {},
   "outputs": [
    {
     "name": "stdout",
     "output_type": "stream",
     "text": [
      "Número de fraudes: 991. Percentual com fraude: 55.06%\n"
     ]
    }
   ],
   "source": [
    "n_fraudes = dados.target.sum()\n",
    "fraudes_porc = n_fraudes / n_transacoes\n",
    "\n",
    "print('Número de fraudes: {}. Percentual com fraude: {:.2%}'.format(n_fraudes, fraudes_porc))"
   ]
  },
  {
   "cell_type": "code",
   "execution_count": 8,
   "id": "a5028eb1",
   "metadata": {},
   "outputs": [
    {
     "name": "stdout",
     "output_type": "stream",
     "text": [
      "Número de transações sem fraudes 809. Percentual sem fraude: 44.94%\n"
     ]
    }
   ],
   "source": [
    "sem_fraude = n_transacoes - n_fraudes\n",
    "sem_fraude_perc = sem_fraude / n_transacoes\n",
    "\n",
    "print('Número de transações sem fraudes {}. Percentual sem fraude: {:.2%}'.format(sem_fraude, sem_fraude_perc))"
   ]
  },
  {
   "cell_type": "markdown",
   "id": "a913c54a",
   "metadata": {},
   "source": [
    "### Modelo: árvore de decisão\n",
    "- temos os dados rotulados\n",
    "- vamos utilizar o modelo de classificação DecisionTreeClassifier\n",
    "- vamos modificar alguns hiperparâmetros:\n",
    "    - max_depth: utilizado para definir a profundidade da árvore\n",
    "    - criterion: medir a qualidade de uma divisão da árvore\n",
    "    - min_samples_leaf: número mínimo de amostras necessárias para estar em um nó folha\n",
    "- para avaliar o melhor modelo vamos utilizar as seguintes métricas:\n",
    "    - acurácia\n",
    "    - precisão\n",
    "    - recall\n",
    "    - curva ROC\n",
    " \n",
    "### Curva ROC\n",
    "Avalia o desempenho do modelo a partir da relação entre a taxa de verdadeiros positivos (sensibilidade) e a taxa de falsos positivos (especificidade) para diferentes limites."
   ]
  },
  {
   "cell_type": "code",
   "execution_count": 9,
   "id": "07245958",
   "metadata": {},
   "outputs": [],
   "source": [
    "#separação dos modelos de treino e teste. Com 30% de teste\n",
    "from sklearn.model_selection import train_test_split\n",
    "X = dados.drop(columns = 'target')\n",
    "y = dados.target\n",
    "X_train, X_test, y_train, y_test = train_test_split( X, y, test_size=0.30, random_state=10)"
   ]
  },
  {
   "cell_type": "code",
   "execution_count": 10,
   "id": "a7583efd",
   "metadata": {},
   "outputs": [],
   "source": [
    "#Importando as métricas\n",
    "from sklearn.metrics import accuracy_score\n",
    "from sklearn.metrics import precision_score \n",
    "from sklearn.metrics import recall_score\n",
    "from sklearn.metrics import confusion_matrix\n",
    "from sklearn.metrics import plot_confusion_matrix"
   ]
  },
  {
   "cell_type": "code",
   "execution_count": 11,
   "id": "a259d904",
   "metadata": {},
   "outputs": [
    {
     "name": "stdout",
     "output_type": "stream",
     "text": [
      "A acurácia foi do modelo foi de: 90.19%\n",
      "A precisão foi do modelo foi de: 90.23%\n",
      "O recall foi do modelo foi de: 92.33%\n"
     ]
    },
    {
     "data": {
      "image/png": "[encoded data removed]",
      "text/plain": [
       "<Figure size 432x288 with 2 Axes>"
      ]
     },
     "metadata": {
      "needs_background": "light"
     },
     "output_type": "display_data"
    },
    {
     "name": "stdout",
     "output_type": "stream",
     "text": [
      "----------------------------------------------------------------------------------------------------\n",
      "roc_auc 0.9\n"
     ]
    },
    {
     "data": {
      "image/png": "[encoded data removed]",
      "text/plain": [
       "<Figure size 360x360 with 1 Axes>"
      ]
     },
     "metadata": {
      "needs_background": "light"
     },
     "output_type": "display_data"
    }
   ],
   "source": [
    "# Modelo 1: decision tree classifier sem modificar os hiperparâmetros\n",
    "from sklearn.metrics import roc_curve, roc_auc_score\n",
    "from sklearn.tree import DecisionTreeClassifier\n",
    "\n",
    "modelo_1 = DecisionTreeClassifier(random_state=10)\n",
    "modelo_1.fit(X_train, y_train)\n",
    "y_pred = modelo_1.predict(X_test)\n",
    "\n",
    "print('A acurácia foi do modelo foi de: {:.2%}'.format(accuracy_score(y_test, y_pred)))\n",
    "print('A precisão foi do modelo foi de: {:.2%}'.format(precision_score(y_test, y_pred)))\n",
    "print('O recall foi do modelo foi de: {:.2%}'.format(recall_score(y_test, y_pred)))\n",
    "confusion_matrix = plot_confusion_matrix(modelo_1, X_test, y_test, cmap='YlGnBu', values_format ='.3g')\n",
    "plt.show()\n",
    "\n",
    "print('-'*100)\n",
    "\n",
    "#tfp = taxa falsos positivos (sensibilidade)\n",
    "#tvp = taxa verdadeiros positivos (especificidade)\n",
    "\n",
    "tfp, tvp, limite = roc_curve(y_test, y_pred)\n",
    "print('roc_auc', roc_auc_score(y_test, y_pred).round(2))\n",
    "\n",
    "plt.subplots(1, figsize=(5,5))\n",
    "plt.title('Curva ROC Modelo 01')\n",
    "plt.plot(tfp,tvp)\n",
    "plt.xlabel('Especifidade')\n",
    "plt.ylabel('Sensibilidade')\n",
    "plt.plot([0, 1], ls=\"--\", c = 'red') #plotando linha guia pontilhada vermelha\n",
    "plt.plot([0, 0], [1, 0], ls=\"--\", c = 'green'), plt.plot([1, 1], ls=\"--\", c = 'green') #plotando linha guia pontilhada verde\n",
    "plt.show()"
   ]
  },
  {
   "cell_type": "code",
   "execution_count": 12,
   "id": "871440f3",
   "metadata": {},
   "outputs": [
    {
     "name": "stdout",
     "output_type": "stream",
     "text": [
      "A acurácia foi do modelo 2 foi de: 89.44%\n",
      "A precisão foi do modelo 2 foi de: 89.58%\n",
      "O recall foi do modelo 2 foi de: 91.67%\n"
     ]
    },
    {
     "data": {
      "image/png": "[encoded data removed]",
      "text/plain": [
       "<Figure size 432x288 with 2 Axes>"
      ]
     },
     "metadata": {
      "needs_background": "light"
     },
     "output_type": "display_data"
    },
    {
     "name": "stdout",
     "output_type": "stream",
     "text": [
      "----------------------------------------------------------------------------------------------------\n",
      "roc_auc 0.89\n"
     ]
    },
    {
     "data": {
      "image/png": "[encoded data removed]",
      "text/plain": [
       "<Figure size 360x360 with 1 Axes>"
      ]
     },
     "metadata": {
      "needs_background": "light"
     },
     "output_type": "display_data"
    }
   ],
   "source": [
    "# Modelo 2: decision tree classifier com max_depth = 5\n",
    "\n",
    "modelo_2 = DecisionTreeClassifier(max_depth = 5, random_state=10)\n",
    "modelo_2.fit(X_train, y_train)\n",
    "y_pred = modelo_2.predict(X_test)\n",
    "\n",
    "print('A acurácia foi do modelo 2 foi de: {:.2%}'.format(accuracy_score(y_test, y_pred)))\n",
    "print('A precisão foi do modelo 2 foi de: {:.2%}'.format(precision_score(y_test, y_pred)))\n",
    "print('O recall foi do modelo 2 foi de: {:.2%}'.format(recall_score(y_test, y_pred)))\n",
    "confusion_matrix = plot_confusion_matrix(modelo_2, X_test, y_test, cmap='PuBuGn', values_format ='.3g')\n",
    "plt.show()\n",
    "\n",
    "print('-'*100)\n",
    "\n",
    "tfp, tvp, limite = roc_curve(y_test, y_pred)\n",
    "print('roc_auc', roc_auc_score(y_test, y_pred).round(2))\n",
    "\n",
    "plt.subplots(1, figsize=(5,5))\n",
    "plt.title('Curva ROC Modelo 02')\n",
    "plt.plot(tfp,tvp)\n",
    "plt.xlabel('Especifidade')\n",
    "plt.ylabel('Sensibilidade')\n",
    "plt.plot([0, 1], ls=\"--\", c = 'red') #plotando linha guia pontilhada vermelha\n",
    "plt.plot([0, 0], [1, 0], ls=\"--\", c = 'green'), plt.plot([1, 1], ls=\"--\", c = 'green') #plotando linha guia pontilhada verde\n",
    "plt.show()"
   ]
  },
  {
   "cell_type": "code",
   "execution_count": 13,
   "id": "206a8aa5",
   "metadata": {},
   "outputs": [
    {
     "name": "stdout",
     "output_type": "stream",
     "text": [
      "A acurácia foi do modelo 3 foi de: 91.11%\n",
      "A precisão foi do modelo 3 foi de: 92.86%\n",
      "O recall foi do modelo 3 foi de: 91.00%\n"
     ]
    },
    {
     "data": {
      "image/png": "[encoded data removed]",
      "text/plain": [
       "<Figure size 432x288 with 2 Axes>"
      ]
     },
     "metadata": {
      "needs_background": "light"
     },
     "output_type": "display_data"
    },
    {
     "name": "stdout",
     "output_type": "stream",
     "text": [
      "----------------------------------------------------------------------------------------------------\n",
      "roc_auc 0.91\n"
     ]
    },
    {
     "data": {
      "image/png": "[encoded data removed]",
      "text/plain": [
       "<Figure size 360x360 with 1 Axes>"
      ]
     },
     "metadata": {
      "needs_background": "light"
     },
     "output_type": "display_data"
    }
   ],
   "source": [
    "# Modelo 3: decision tree classifier com criterion='entropy' \n",
    "\n",
    "modelo_3 = DecisionTreeClassifier(criterion='entropy', max_depth = 10, random_state=10)\n",
    "modelo_3.fit(X_train, y_train)\n",
    "y_pred = modelo_3.predict(X_test)\n",
    "\n",
    "print('A acurácia foi do modelo 3 foi de: {:.2%}'.format(accuracy_score(y_test, y_pred)))\n",
    "print('A precisão foi do modelo 3 foi de: {:.2%}'.format(precision_score(y_test, y_pred)))\n",
    "print('O recall foi do modelo 3 foi de: {:.2%}'.format(recall_score(y_test, y_pred)))\n",
    "confusion_matrix = plot_confusion_matrix(modelo_3, X_test, y_test, cmap='YlOrRd', values_format ='.3g')\n",
    "plt.show()\n",
    "\n",
    "print('-'*100)\n",
    "\n",
    "tfp, tvp, limite = roc_curve(y_test, y_pred)\n",
    "print('roc_auc', roc_auc_score(y_test, y_pred).round(2))\n",
    "\n",
    "plt.subplots(1, figsize=(5,5))\n",
    "plt.title('Curva ROC Modelo 03')\n",
    "plt.plot(tfp,tvp)\n",
    "plt.xlabel('Especifidade')\n",
    "plt.ylabel('Sensibilidade')\n",
    "plt.plot([0, 1], ls=\"--\", c = 'red') #plotando linha guia pontilhada vermelha\n",
    "plt.plot([0, 0], [1, 0], ls=\"--\", c = 'green'), plt.plot([1, 1], ls=\"--\", c = 'green') #plotando linha guia pontilhada verde\n",
    "plt.show()"
   ]
  },
  {
   "cell_type": "code",
   "execution_count": 14,
   "id": "4c6ff079",
   "metadata": {},
   "outputs": [
    {
     "name": "stdout",
     "output_type": "stream",
     "text": [
      "A acurácia foi do modelo 4 foi de: 90.93%\n",
      "A precisão foi do modelo 4 foi de: 93.13%\n",
      "O recall foi do modelo 4 foi de: 90.33%\n"
     ]
    },
    {
     "data": {
      "image/png": "[encoded data removed]",
      "text/plain": [
       "<Figure size 432x288 with 2 Axes>"
      ]
     },
     "metadata": {
      "needs_background": "light"
     },
     "output_type": "display_data"
    },
    {
     "name": "stdout",
     "output_type": "stream",
     "text": [
      "----------------------------------------------------------------------------------------------------\n",
      "roc_auc 0.91\n"
     ]
    },
    {
     "data": {
      "image/png": "[encoded data removed]",
      "text/plain": [
       "<Figure size 360x360 with 1 Axes>"
      ]
     },
     "metadata": {
      "needs_background": "light"
     },
     "output_type": "display_data"
    }
   ],
   "source": [
    "# Modelo 4: decision tree classifier com criterion='entropy' e min_samples_leaf= 3\n",
    "\n",
    "modelo_4 = DecisionTreeClassifier(criterion='entropy', max_depth = 10, min_samples_leaf=3, random_state=10)\n",
    "modelo_4.fit(X_train, y_train)\n",
    "y_pred = modelo_4.predict(X_test)\n",
    "\n",
    "print('A acurácia foi do modelo 4 foi de: {:.2%}'.format(accuracy_score(y_test, y_pred)))\n",
    "print('A precisão foi do modelo 4 foi de: {:.2%}'.format(precision_score(y_test, y_pred)))\n",
    "print('O recall foi do modelo 4 foi de: {:.2%}'.format(recall_score(y_test, y_pred)))\n",
    "confusion_matrix = plot_confusion_matrix(modelo_4, X_test, y_test, cmap='PuBu', values_format ='.3g')\n",
    "plt.show()\n",
    "\n",
    "print('-'*100)\n",
    "\n",
    "tfp, tvp, limite = roc_curve(y_test, y_pred)\n",
    "print('roc_auc', roc_auc_score(y_test, y_pred).round(2))\n",
    "\n",
    "plt.subplots(1, figsize=(5,5))\n",
    "plt.title('Curva ROC Modelo 04')\n",
    "plt.plot(tfp,tvp)\n",
    "plt.xlabel('Especifidade')\n",
    "plt.ylabel('Sensibilidade')\n",
    "plt.plot([0, 1], ls=\"--\", c = 'red') #plotando linha guia pontilhada vermelha\n",
    "plt.plot([0, 0], [1, 0], ls=\"--\", c = 'green'), plt.plot([1, 1], ls=\"--\", c = 'green') #plotando linha guia pontilhada verde\n",
    "plt.show()"
   ]
  },
  {
   "cell_type": "markdown",
   "id": "065b254e",
   "metadata": {},
   "source": [
    "### Observação\n",
    "\n",
    "Não iremos alterar muito os hiperparâmetros por dois motivos:\n",
    " - para que não haja overfit\n",
    " - para o notebook não ficar muito pesado"
   ]
  },
  {
   "cell_type": "markdown",
   "id": "2d4d54e9",
   "metadata": {},
   "source": [
    "# Conclusão:\n",
    " Dentro do nosso modelo, de detecção de fraude em transação de cartão de crédito, o melhor modelo para os nossos dados foi:\n",
    "   - Modelo 3: decision tree classifier com criterion='entropy' \n",
    "   - Que apresentou os seguintes resultados:\n",
    "        - A acurácia de: 91.11%\n",
    "        - A precisão de: 92.86%\n",
    "        - O recall de: 91.00%\n",
    "        - Em relação a Curva ROC, temos uma discriminação excepcional, já que nossa área tem um valor de 0,91\n"
   ]
  }
 ],
 "metadata": {
  "kernelspec": {
   "display_name": "Python 3 (ipykernel)",
   "language": "python",
   "name": "python3"
  },
  "language_info": {
   "codemirror_mode": {
    "name": "ipython",
    "version": 3
   },
   "file_extension": ".py",
   "mimetype": "text/x-python",
   "name": "python",
   "nbconvert_exporter": "python",
   "pygments_lexer": "ipython3",
   "version": "3.9.7"
  }
 },
 "nbformat": 4,
 "nbformat_minor": 5
}
